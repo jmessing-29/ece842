{
 "cells": [
  {
   "cell_type": "code",
   "execution_count": 4,
   "id": "1789b0b3",
   "metadata": {},
   "outputs": [],
   "source": [
    "import pandas as pd"
   ]
  },
  {
   "cell_type": "code",
   "execution_count": 128,
   "id": "e7810c94",
   "metadata": {},
   "outputs": [],
   "source": [
    "import tabulate\n",
    "import numpy\n",
    "from matplotlib import pyplot as plt"
   ]
  },
  {
   "cell_type": "code",
   "execution_count": 63,
   "id": "85eada1c",
   "metadata": {},
   "outputs": [],
   "source": [
    "def clearlogs(protocols):\n",
    "    if 's' in protocols:\n",
    "        ! rm logsaw.txt\n",
    "    if 'g' in protocols:\n",
    "        ! rm loggbn.txt\n",
    "    if 'sr' in protocols:\n",
    "        ! rm logsr.txt"
   ]
  },
  {
   "cell_type": "markdown",
   "id": "a81b2c9e",
   "metadata": {},
   "source": [
    "# Experiment 1"
   ]
  },
  {
   "cell_type": "code",
   "execution_count": 2,
   "id": "7a377c3c",
   "metadata": {},
   "outputs": [],
   "source": [
    "! rm logsaw.txt\n",
    "for i in range (10):\n",
    "    ! java ARQ 0 30 125000 10000 125 0.0001 0 SAW "
   ]
  },
  {
   "cell_type": "code",
   "execution_count": 5,
   "id": "e19ee63b",
   "metadata": {},
   "outputs": [
    {
     "data": {
      "text/html": [
       "<div>\n",
       "<style scoped>\n",
       "    .dataframe tbody tr th:only-of-type {\n",
       "        vertical-align: middle;\n",
       "    }\n",
       "\n",
       "    .dataframe tbody tr th {\n",
       "        vertical-align: top;\n",
       "    }\n",
       "\n",
       "    .dataframe thead th {\n",
       "        text-align: right;\n",
       "    }\n",
       "</style>\n",
       "<table border=\"1\" class=\"dataframe\">\n",
       "  <thead>\n",
       "    <tr style=\"text-align: right;\">\n",
       "      <th></th>\n",
       "      <th>time</th>\n",
       "      <th>#errorpkts</th>\n",
       "      <th>#droppedpkts</th>\n",
       "      <th>#ctrlpktsent</th>\n",
       "      <th>#ctrlpktsrcvd</th>\n",
       "      <th>#datapktssent</th>\n",
       "      <th>#datapktsrcvd</th>\n",
       "    </tr>\n",
       "  </thead>\n",
       "  <tbody>\n",
       "    <tr>\n",
       "      <th>0</th>\n",
       "      <td>628228</td>\n",
       "      <td>121</td>\n",
       "      <td>0</td>\n",
       "      <td>10000</td>\n",
       "      <td>10000</td>\n",
       "      <td>10121</td>\n",
       "      <td>10121</td>\n",
       "    </tr>\n",
       "    <tr>\n",
       "      <th>1</th>\n",
       "      <td>629044</td>\n",
       "      <td>133</td>\n",
       "      <td>0</td>\n",
       "      <td>10000</td>\n",
       "      <td>10000</td>\n",
       "      <td>10133</td>\n",
       "      <td>10133</td>\n",
       "    </tr>\n",
       "    <tr>\n",
       "      <th>2</th>\n",
       "      <td>628160</td>\n",
       "      <td>120</td>\n",
       "      <td>0</td>\n",
       "      <td>10000</td>\n",
       "      <td>10000</td>\n",
       "      <td>10120</td>\n",
       "      <td>10120</td>\n",
       "    </tr>\n",
       "    <tr>\n",
       "      <th>3</th>\n",
       "      <td>626936</td>\n",
       "      <td>102</td>\n",
       "      <td>0</td>\n",
       "      <td>10000</td>\n",
       "      <td>10000</td>\n",
       "      <td>10102</td>\n",
       "      <td>10102</td>\n",
       "    </tr>\n",
       "    <tr>\n",
       "      <th>4</th>\n",
       "      <td>628160</td>\n",
       "      <td>120</td>\n",
       "      <td>0</td>\n",
       "      <td>10000</td>\n",
       "      <td>10000</td>\n",
       "      <td>10120</td>\n",
       "      <td>10120</td>\n",
       "    </tr>\n",
       "    <tr>\n",
       "      <th>5</th>\n",
       "      <td>627888</td>\n",
       "      <td>116</td>\n",
       "      <td>0</td>\n",
       "      <td>10000</td>\n",
       "      <td>10000</td>\n",
       "      <td>10116</td>\n",
       "      <td>10116</td>\n",
       "    </tr>\n",
       "    <tr>\n",
       "      <th>6</th>\n",
       "      <td>629452</td>\n",
       "      <td>139</td>\n",
       "      <td>0</td>\n",
       "      <td>10000</td>\n",
       "      <td>10000</td>\n",
       "      <td>10139</td>\n",
       "      <td>10139</td>\n",
       "    </tr>\n",
       "    <tr>\n",
       "      <th>7</th>\n",
       "      <td>629180</td>\n",
       "      <td>135</td>\n",
       "      <td>0</td>\n",
       "      <td>10000</td>\n",
       "      <td>10000</td>\n",
       "      <td>10135</td>\n",
       "      <td>10135</td>\n",
       "    </tr>\n",
       "    <tr>\n",
       "      <th>8</th>\n",
       "      <td>629112</td>\n",
       "      <td>134</td>\n",
       "      <td>0</td>\n",
       "      <td>10000</td>\n",
       "      <td>10000</td>\n",
       "      <td>10134</td>\n",
       "      <td>10134</td>\n",
       "    </tr>\n",
       "    <tr>\n",
       "      <th>9</th>\n",
       "      <td>629588</td>\n",
       "      <td>141</td>\n",
       "      <td>0</td>\n",
       "      <td>10000</td>\n",
       "      <td>10000</td>\n",
       "      <td>10141</td>\n",
       "      <td>10141</td>\n",
       "    </tr>\n",
       "  </tbody>\n",
       "</table>\n",
       "</div>"
      ],
      "text/plain": [
       "     time  #errorpkts  #droppedpkts  #ctrlpktsent  #ctrlpktsrcvd   \n",
       "0  628228         121             0         10000          10000  \\\n",
       "1  629044         133             0         10000          10000   \n",
       "2  628160         120             0         10000          10000   \n",
       "3  626936         102             0         10000          10000   \n",
       "4  628160         120             0         10000          10000   \n",
       "5  627888         116             0         10000          10000   \n",
       "6  629452         139             0         10000          10000   \n",
       "7  629180         135             0         10000          10000   \n",
       "8  629112         134             0         10000          10000   \n",
       "9  629588         141             0         10000          10000   \n",
       "\n",
       "   #datapktssent  #datapktsrcvd  \n",
       "0          10121          10121  \n",
       "1          10133          10133  \n",
       "2          10120          10120  \n",
       "3          10102          10102  \n",
       "4          10120          10120  \n",
       "5          10116          10116  \n",
       "6          10139          10139  \n",
       "7          10135          10135  \n",
       "8          10134          10134  \n",
       "9          10141          10141  "
      ]
     },
     "execution_count": 5,
     "metadata": {},
     "output_type": "execute_result"
    }
   ],
   "source": [
    "exp1_saw = pd.read_csv('logsaw.txt', sep=' ', header=None, names=['time', '#errorpkts', '#droppedpkts', '#ctrlpktsent', '#ctrlpktsrcvd', '#datapktssent', '#datapktsrcvd' ])\n",
    "exp1_saw"
   ]
  },
  {
   "cell_type": "code",
   "execution_count": 6,
   "id": "a0c79fed",
   "metadata": {},
   "outputs": [
    {
     "name": "stdout",
     "output_type": "stream",
     "text": [
      "^C\r\n"
     ]
    }
   ],
   "source": [
    "for i in range (10):\n",
    "    !java ARQ 0 30 125000 10000 125 0.0001 0 GBN 8 "
   ]
  },
  {
   "cell_type": "code",
   "execution_count": 8,
   "id": "592fdba7",
   "metadata": {},
   "outputs": [],
   "source": [
    "# one more, to solve race condition\n",
    "!java ARQ 0 30 125000 10000 125 0.0001 0 GBN 8 "
   ]
  },
  {
   "cell_type": "code",
   "execution_count": 9,
   "id": "a5523c28",
   "metadata": {},
   "outputs": [
    {
     "data": {
      "text/html": [
       "<div>\n",
       "<style scoped>\n",
       "    .dataframe tbody tr th:only-of-type {\n",
       "        vertical-align: middle;\n",
       "    }\n",
       "\n",
       "    .dataframe tbody tr th {\n",
       "        vertical-align: top;\n",
       "    }\n",
       "\n",
       "    .dataframe thead th {\n",
       "        text-align: right;\n",
       "    }\n",
       "</style>\n",
       "<table border=\"1\" class=\"dataframe\">\n",
       "  <thead>\n",
       "    <tr style=\"text-align: right;\">\n",
       "      <th></th>\n",
       "      <th>time</th>\n",
       "      <th>#errorpkts</th>\n",
       "      <th>#droppedpkts</th>\n",
       "      <th>#ctrlpktsent</th>\n",
       "      <th>#ctrlpktsrcvd</th>\n",
       "      <th>#datapktssent</th>\n",
       "      <th>#datapktsrcvd</th>\n",
       "    </tr>\n",
       "  </thead>\n",
       "  <tbody>\n",
       "    <tr>\n",
       "      <th>0</th>\n",
       "      <td>78890</td>\n",
       "      <td>142</td>\n",
       "      <td>0</td>\n",
       "      <td>10167</td>\n",
       "      <td>10167</td>\n",
       "      <td>10308</td>\n",
       "      <td>10308</td>\n",
       "    </tr>\n",
       "    <tr>\n",
       "      <th>1</th>\n",
       "      <td>78143</td>\n",
       "      <td>123</td>\n",
       "      <td>0</td>\n",
       "      <td>10068</td>\n",
       "      <td>10068</td>\n",
       "      <td>10188</td>\n",
       "      <td>10188</td>\n",
       "    </tr>\n",
       "    <tr>\n",
       "      <th>2</th>\n",
       "      <td>78110</td>\n",
       "      <td>138</td>\n",
       "      <td>0</td>\n",
       "      <td>10028</td>\n",
       "      <td>10028</td>\n",
       "      <td>10164</td>\n",
       "      <td>10164</td>\n",
       "    </tr>\n",
       "    <tr>\n",
       "      <th>3</th>\n",
       "      <td>78201</td>\n",
       "      <td>135</td>\n",
       "      <td>0</td>\n",
       "      <td>10046</td>\n",
       "      <td>10046</td>\n",
       "      <td>10180</td>\n",
       "      <td>10180</td>\n",
       "    </tr>\n",
       "    <tr>\n",
       "      <th>4</th>\n",
       "      <td>78094</td>\n",
       "      <td>112</td>\n",
       "      <td>0</td>\n",
       "      <td>10047</td>\n",
       "      <td>10047</td>\n",
       "      <td>10164</td>\n",
       "      <td>10164</td>\n",
       "    </tr>\n",
       "    <tr>\n",
       "      <th>5</th>\n",
       "      <td>78684</td>\n",
       "      <td>120</td>\n",
       "      <td>0</td>\n",
       "      <td>10122</td>\n",
       "      <td>10122</td>\n",
       "      <td>10244</td>\n",
       "      <td>10244</td>\n",
       "    </tr>\n",
       "    <tr>\n",
       "      <th>6</th>\n",
       "      <td>77990</td>\n",
       "      <td>104</td>\n",
       "      <td>0</td>\n",
       "      <td>10035</td>\n",
       "      <td>10035</td>\n",
       "      <td>10140</td>\n",
       "      <td>10140</td>\n",
       "    </tr>\n",
       "    <tr>\n",
       "      <th>7</th>\n",
       "      <td>78977</td>\n",
       "      <td>139</td>\n",
       "      <td>0</td>\n",
       "      <td>10162</td>\n",
       "      <td>10162</td>\n",
       "      <td>10299</td>\n",
       "      <td>10299</td>\n",
       "    </tr>\n",
       "    <tr>\n",
       "      <th>8</th>\n",
       "      <td>78238</td>\n",
       "      <td>122</td>\n",
       "      <td>0</td>\n",
       "      <td>10052</td>\n",
       "      <td>10052</td>\n",
       "      <td>10172</td>\n",
       "      <td>10172</td>\n",
       "    </tr>\n",
       "    <tr>\n",
       "      <th>9</th>\n",
       "      <td>78149</td>\n",
       "      <td>129</td>\n",
       "      <td>0</td>\n",
       "      <td>10055</td>\n",
       "      <td>10055</td>\n",
       "      <td>10184</td>\n",
       "      <td>10184</td>\n",
       "    </tr>\n",
       "  </tbody>\n",
       "</table>\n",
       "</div>"
      ],
      "text/plain": [
       "    time  #errorpkts  #droppedpkts  #ctrlpktsent  #ctrlpktsrcvd   \n",
       "0  78890         142             0         10167          10167  \\\n",
       "1  78143         123             0         10068          10068   \n",
       "2  78110         138             0         10028          10028   \n",
       "3  78201         135             0         10046          10046   \n",
       "4  78094         112             0         10047          10047   \n",
       "5  78684         120             0         10122          10122   \n",
       "6  77990         104             0         10035          10035   \n",
       "7  78977         139             0         10162          10162   \n",
       "8  78238         122             0         10052          10052   \n",
       "9  78149         129             0         10055          10055   \n",
       "\n",
       "   #datapktssent  #datapktsrcvd  \n",
       "0          10308          10308  \n",
       "1          10188          10188  \n",
       "2          10164          10164  \n",
       "3          10180          10180  \n",
       "4          10164          10164  \n",
       "5          10244          10244  \n",
       "6          10140          10140  \n",
       "7          10299          10299  \n",
       "8          10172          10172  \n",
       "9          10184          10184  "
      ]
     },
     "execution_count": 9,
     "metadata": {},
     "output_type": "execute_result"
    }
   ],
   "source": [
    "exp1_gbn = pd.read_csv('loggbn.txt', sep=' ', header=None, names=['time', '#errorpkts', '#droppedpkts', '#ctrlpktsent', '#ctrlpktsrcvd', '#datapktssent', '#datapktsrcvd' ])\n",
    "exp1_gbn"
   ]
  },
  {
   "cell_type": "code",
   "execution_count": 15,
   "id": "e4d33846",
   "metadata": {},
   "outputs": [],
   "source": [
    "saw = exp1_saw.mean()\n",
    "gbn = exp1_gbn.mean()"
   ]
  },
  {
   "attachments": {
    "image-2.png": {
     "image/png": "[encoded data removed]"
    }
   },
   "cell_type": "markdown",
   "id": "0992abbe",
   "metadata": {},
   "source": [
    "<div>\n",
    "<img src=attachment:image-2.png width=\"500\"/>\n",
    "<div>"
   ]
  },
  {
   "cell_type": "code",
   "execution_count": 50,
   "id": "a0046fdb",
   "metadata": {},
   "outputs": [],
   "source": [
    "s_thru = round(saw['#datapktsrcvd'] * 125 / saw['time'] * 1000)\n",
    "b_thru = round(gbn['#datapktsrcvd'] * 125 / gbn['time'] * 1000)\n",
    "data = {\n",
    "    '': ['Throughput (Bytes/s)', 'Utilization', 'Delay (ms)'],\n",
    "    'Saw': [ \n",
    "            s_thru, \n",
    "            s_thru / 125000 * 100, \n",
    "            saw['time'] / saw['#datapktsrcvd'], \n",
    "           ],\n",
    "    'GBN': [\n",
    "            b_thru, \n",
    "            b_thru / 125000 * 100, \n",
    "            gbn['time'] / gbn['#datapktsrcvd']\n",
    "           ]\n",
    "}"
   ]
  },
  {
   "cell_type": "markdown",
   "id": "4c21b448",
   "metadata": {},
   "source": [
    "## Table Results"
   ]
  },
  {
   "cell_type": "code",
   "execution_count": 51,
   "id": "ce9eb660",
   "metadata": {},
   "outputs": [
    {
     "data": {
      "text/html": [
       "<div>\n",
       "<style scoped>\n",
       "    .dataframe tbody tr th:only-of-type {\n",
       "        vertical-align: middle;\n",
       "    }\n",
       "\n",
       "    .dataframe tbody tr th {\n",
       "        vertical-align: top;\n",
       "    }\n",
       "\n",
       "    .dataframe thead th {\n",
       "        text-align: right;\n",
       "    }\n",
       "</style>\n",
       "<table border=\"1\" class=\"dataframe\">\n",
       "  <thead>\n",
       "    <tr style=\"text-align: right;\">\n",
       "      <th></th>\n",
       "      <th></th>\n",
       "      <th>Saw</th>\n",
       "      <th>GBN</th>\n",
       "    </tr>\n",
       "  </thead>\n",
       "  <tbody>\n",
       "    <tr>\n",
       "      <th>0</th>\n",
       "      <td>Throughput (Bytes/s)</td>\n",
       "      <td>2014.000000</td>\n",
       "      <td>16280.0000</td>\n",
       "    </tr>\n",
       "    <tr>\n",
       "      <th>1</th>\n",
       "      <td>Utilization</td>\n",
       "      <td>1.611200</td>\n",
       "      <td>13.0240</td>\n",
       "    </tr>\n",
       "    <tr>\n",
       "      <th>2</th>\n",
       "      <td>Delay (ms)</td>\n",
       "      <td>62.074718</td>\n",
       "      <td>7.6779</td>\n",
       "    </tr>\n",
       "  </tbody>\n",
       "</table>\n",
       "</div>"
      ],
      "text/plain": [
       "                                 Saw         GBN\n",
       "0  Throughput (Bytes/s)  2014.000000  16280.0000\n",
       "1           Utilization     1.611200     13.0240\n",
       "2            Delay (ms)    62.074718      7.6779"
      ]
     },
     "execution_count": 51,
     "metadata": {},
     "output_type": "execute_result"
    }
   ],
   "source": [
    "pd.DataFrame(data)"
   ]
  },
  {
   "cell_type": "markdown",
   "id": "0fd2b207",
   "metadata": {},
   "source": [
    "## Interpretation\n",
    "lorum ipsum"
   ]
  },
  {
   "attachments": {
    "image-2.png": {
     "image/png": "[encoded data removed]"
    }
   },
   "cell_type": "markdown",
   "id": "03b24fd7",
   "metadata": {},
   "source": [
    "# Experiment 2\n",
    "<div>\n",
    "<img src=attachment:image-2.png width=\"500\"/>"
   ]
  },
  {
   "cell_type": "code",
   "execution_count": 110,
   "id": "d69cd00a",
   "metadata": {},
   "outputs": [],
   "source": [
    "packets = 10000\n",
    "delay = 30\n",
    "rate = 125000\n",
    "numpkt = 10000\n",
    "pktsize = 125\n",
    "errp = [0, 0.00002, 0.00004, 0.00006, 0.00008, 0.0001]\n",
    "dropP = 0\n",
    "N = 8"
   ]
  },
  {
   "cell_type": "markdown",
   "id": "b835c9d6",
   "metadata": {},
   "source": [
    "### SAW Calculations"
   ]
  },
  {
   "cell_type": "code",
   "execution_count": 171,
   "id": "4516c10c",
   "metadata": {},
   "outputs": [],
   "source": [
    "clearlogs(['s'])\n",
    "for x in errp:\n",
    "    for y in range (10):\n",
    "        saw_cmd = ('java ARQ 0 %s %s %s %s %s %s SAW' % (delay, rate, numpkt, pktsize, x, dropP))\n",
    "        ! $saw_cmd"
   ]
  },
  {
   "cell_type": "code",
   "execution_count": 188,
   "id": "17e413bd",
   "metadata": {},
   "outputs": [],
   "source": [
    "exp2_saw = pd.read_csv('logsaw.txt', sep=' ', header=None, names=['time', '#errorpkts', '#droppedpkts', '#ctrlpktsent', '#ctrlpktsrcvd', '#datapktssent', '#datapktsrcvd' ])"
   ]
  },
  {
   "cell_type": "code",
   "execution_count": 189,
   "id": "dc1465fe",
   "metadata": {},
   "outputs": [
    {
     "data": {
      "text/html": [
       "<div>\n",
       "<style scoped>\n",
       "    .dataframe tbody tr th:only-of-type {\n",
       "        vertical-align: middle;\n",
       "    }\n",
       "\n",
       "    .dataframe tbody tr th {\n",
       "        vertical-align: top;\n",
       "    }\n",
       "\n",
       "    .dataframe thead th {\n",
       "        text-align: right;\n",
       "    }\n",
       "</style>\n",
       "<table border=\"1\" class=\"dataframe\">\n",
       "  <thead>\n",
       "    <tr style=\"text-align: right;\">\n",
       "      <th></th>\n",
       "      <th>time</th>\n",
       "      <th>#errorpkts</th>\n",
       "      <th>#droppedpkts</th>\n",
       "      <th>#ctrlpktsent</th>\n",
       "      <th>#ctrlpktsrcvd</th>\n",
       "      <th>#datapktssent</th>\n",
       "      <th>#datapktsrcvd</th>\n",
       "    </tr>\n",
       "    <tr>\n",
       "      <th>Err Prob</th>\n",
       "      <th></th>\n",
       "      <th></th>\n",
       "      <th></th>\n",
       "      <th></th>\n",
       "      <th></th>\n",
       "      <th></th>\n",
       "      <th></th>\n",
       "    </tr>\n",
       "  </thead>\n",
       "  <tbody>\n",
       "    <tr>\n",
       "      <th>0.00000</th>\n",
       "      <td>620000.0</td>\n",
       "      <td>0.0</td>\n",
       "      <td>0.0</td>\n",
       "      <td>10000.0</td>\n",
       "      <td>10000.0</td>\n",
       "      <td>10000.0</td>\n",
       "      <td>10000.0</td>\n",
       "    </tr>\n",
       "    <tr>\n",
       "      <th>0.00002</th>\n",
       "      <td>621727.2</td>\n",
       "      <td>25.4</td>\n",
       "      <td>0.0</td>\n",
       "      <td>10000.0</td>\n",
       "      <td>10000.0</td>\n",
       "      <td>10025.4</td>\n",
       "      <td>10025.4</td>\n",
       "    </tr>\n",
       "    <tr>\n",
       "      <th>0.00004</th>\n",
       "      <td>623406.8</td>\n",
       "      <td>50.1</td>\n",
       "      <td>0.0</td>\n",
       "      <td>10000.0</td>\n",
       "      <td>10000.0</td>\n",
       "      <td>10050.1</td>\n",
       "      <td>10050.1</td>\n",
       "    </tr>\n",
       "    <tr>\n",
       "      <th>0.00006</th>\n",
       "      <td>625263.2</td>\n",
       "      <td>77.4</td>\n",
       "      <td>0.0</td>\n",
       "      <td>10000.0</td>\n",
       "      <td>10000.0</td>\n",
       "      <td>10077.4</td>\n",
       "      <td>10077.4</td>\n",
       "    </tr>\n",
       "    <tr>\n",
       "      <th>0.00008</th>\n",
       "      <td>627085.6</td>\n",
       "      <td>104.2</td>\n",
       "      <td>0.0</td>\n",
       "      <td>10000.0</td>\n",
       "      <td>10000.0</td>\n",
       "      <td>10104.2</td>\n",
       "      <td>10104.2</td>\n",
       "    </tr>\n",
       "    <tr>\n",
       "      <th>0.00010</th>\n",
       "      <td>628411.6</td>\n",
       "      <td>123.7</td>\n",
       "      <td>0.0</td>\n",
       "      <td>10000.0</td>\n",
       "      <td>10000.0</td>\n",
       "      <td>10123.7</td>\n",
       "      <td>10123.7</td>\n",
       "    </tr>\n",
       "  </tbody>\n",
       "</table>\n",
       "</div>"
      ],
      "text/plain": [
       "              time  #errorpkts  #droppedpkts  #ctrlpktsent  #ctrlpktsrcvd   \n",
       "Err Prob                                                                    \n",
       "0.00000   620000.0         0.0           0.0       10000.0        10000.0  \\\n",
       "0.00002   621727.2        25.4           0.0       10000.0        10000.0   \n",
       "0.00004   623406.8        50.1           0.0       10000.0        10000.0   \n",
       "0.00006   625263.2        77.4           0.0       10000.0        10000.0   \n",
       "0.00008   627085.6       104.2           0.0       10000.0        10000.0   \n",
       "0.00010   628411.6       123.7           0.0       10000.0        10000.0   \n",
       "\n",
       "          #datapktssent  #datapktsrcvd  \n",
       "Err Prob                                \n",
       "0.00000         10000.0        10000.0  \n",
       "0.00002         10025.4        10025.4  \n",
       "0.00004         10050.1        10050.1  \n",
       "0.00006         10077.4        10077.4  \n",
       "0.00008         10104.2        10104.2  \n",
       "0.00010         10123.7        10123.7  "
      ]
     },
     "execution_count": 189,
     "metadata": {},
     "output_type": "execute_result"
    }
   ],
   "source": [
    "exp2_saw['Err Prob'] = [item for item in errp for _ in range(10)]\n",
    "exp2_saw_res = exp2_saw.groupby(['Err Prob']).mean()\n",
    "exp2_saw_res"
   ]
  },
  {
   "cell_type": "markdown",
   "id": "15926c98",
   "metadata": {},
   "source": [
    "### GBN Calculations"
   ]
  },
  {
   "cell_type": "code",
   "execution_count": 166,
   "id": "05f69b5c",
   "metadata": {},
   "outputs": [
    {
     "name": "stdout",
     "output_type": "stream",
     "text": [
      "0\n",
      "2e-05\n",
      "4e-05\n",
      "6e-05\n",
      "8e-05\n",
      "^C\n",
      "0.0001\n"
     ]
    }
   ],
   "source": [
    "clearlogs(['g'])\n",
    "for x in errp:\n",
    "    print (x)\n",
    "    for y in range (10):\n",
    "        gbn_cmd = ('java ARQ 0 %s %s %s %s %s %s GBN %s' % (delay, rate, numpkt, pktsize, x, dropP, N))\n",
    "        ! $gbn_cmd"
   ]
  },
  {
   "cell_type": "code",
   "execution_count": 186,
   "id": "33537ee4",
   "metadata": {},
   "outputs": [],
   "source": [
    "exp2_gbn = pd.read_csv('loggbn.txt', sep=' ', header=None, names=['time', '#errorpkts', '#droppedpkts', '#ctrlpktsent', '#ctrlpktsrcvd', '#datapktssent', '#datapktsrcvd' ])"
   ]
  },
  {
   "cell_type": "code",
   "execution_count": 187,
   "id": "e524a447",
   "metadata": {},
   "outputs": [
    {
     "data": {
      "text/html": [
       "<div>\n",
       "<style scoped>\n",
       "    .dataframe tbody tr th:only-of-type {\n",
       "        vertical-align: middle;\n",
       "    }\n",
       "\n",
       "    .dataframe tbody tr th {\n",
       "        vertical-align: top;\n",
       "    }\n",
       "\n",
       "    .dataframe thead th {\n",
       "        text-align: right;\n",
       "    }\n",
       "</style>\n",
       "<table border=\"1\" class=\"dataframe\">\n",
       "  <thead>\n",
       "    <tr style=\"text-align: right;\">\n",
       "      <th></th>\n",
       "      <th>time</th>\n",
       "      <th>#errorpkts</th>\n",
       "      <th>#droppedpkts</th>\n",
       "      <th>#ctrlpktsent</th>\n",
       "      <th>#ctrlpktsrcvd</th>\n",
       "      <th>#datapktssent</th>\n",
       "      <th>#datapktsrcvd</th>\n",
       "    </tr>\n",
       "    <tr>\n",
       "      <th>Err Prob</th>\n",
       "      <th></th>\n",
       "      <th></th>\n",
       "      <th></th>\n",
       "      <th></th>\n",
       "      <th></th>\n",
       "      <th></th>\n",
       "      <th></th>\n",
       "    </tr>\n",
       "  </thead>\n",
       "  <tbody>\n",
       "    <tr>\n",
       "      <th>0.00000</th>\n",
       "      <td>77507.0</td>\n",
       "      <td>0.0</td>\n",
       "      <td>0.0</td>\n",
       "      <td>10000.0</td>\n",
       "      <td>10000.0</td>\n",
       "      <td>10000.0</td>\n",
       "      <td>10000.0</td>\n",
       "    </tr>\n",
       "    <tr>\n",
       "      <th>0.00002</th>\n",
       "      <td>77779.0</td>\n",
       "      <td>26.2</td>\n",
       "      <td>0.0</td>\n",
       "      <td>10030.3</td>\n",
       "      <td>10030.3</td>\n",
       "      <td>10056.4</td>\n",
       "      <td>10056.4</td>\n",
       "    </tr>\n",
       "    <tr>\n",
       "      <th>0.00004</th>\n",
       "      <td>77880.0</td>\n",
       "      <td>51.0</td>\n",
       "      <td>0.0</td>\n",
       "      <td>10043.1</td>\n",
       "      <td>10043.1</td>\n",
       "      <td>10094.4</td>\n",
       "      <td>10094.4</td>\n",
       "    </tr>\n",
       "    <tr>\n",
       "      <th>0.00006</th>\n",
       "      <td>78013.9</td>\n",
       "      <td>77.6</td>\n",
       "      <td>0.0</td>\n",
       "      <td>10050.4</td>\n",
       "      <td>10050.4</td>\n",
       "      <td>10128.4</td>\n",
       "      <td>10128.4</td>\n",
       "    </tr>\n",
       "    <tr>\n",
       "      <th>0.00008</th>\n",
       "      <td>78164.9</td>\n",
       "      <td>106.7</td>\n",
       "      <td>0.0</td>\n",
       "      <td>10055.4</td>\n",
       "      <td>10055.4</td>\n",
       "      <td>10162.8</td>\n",
       "      <td>10162.8</td>\n",
       "    </tr>\n",
       "    <tr>\n",
       "      <th>0.00010</th>\n",
       "      <td>78247.3</td>\n",
       "      <td>129.4</td>\n",
       "      <td>0.0</td>\n",
       "      <td>10063.7</td>\n",
       "      <td>10063.7</td>\n",
       "      <td>10192.2</td>\n",
       "      <td>10192.2</td>\n",
       "    </tr>\n",
       "  </tbody>\n",
       "</table>\n",
       "</div>"
      ],
      "text/plain": [
       "             time  #errorpkts  #droppedpkts  #ctrlpktsent  #ctrlpktsrcvd   \n",
       "Err Prob                                                                   \n",
       "0.00000   77507.0         0.0           0.0       10000.0        10000.0  \\\n",
       "0.00002   77779.0        26.2           0.0       10030.3        10030.3   \n",
       "0.00004   77880.0        51.0           0.0       10043.1        10043.1   \n",
       "0.00006   78013.9        77.6           0.0       10050.4        10050.4   \n",
       "0.00008   78164.9       106.7           0.0       10055.4        10055.4   \n",
       "0.00010   78247.3       129.4           0.0       10063.7        10063.7   \n",
       "\n",
       "          #datapktssent  #datapktsrcvd  \n",
       "Err Prob                                \n",
       "0.00000         10000.0        10000.0  \n",
       "0.00002         10056.4        10056.4  \n",
       "0.00004         10094.4        10094.4  \n",
       "0.00006         10128.4        10128.4  \n",
       "0.00008         10162.8        10162.8  \n",
       "0.00010         10192.2        10192.2  "
      ]
     },
     "execution_count": 187,
     "metadata": {},
     "output_type": "execute_result"
    }
   ],
   "source": [
    "exp2_gbn['Err Prob'] = [item for item in errp for _ in range(10)]\n",
    "exp2_gbn_res = exp2_gbn.groupby(['Err Prob']).mean()\n",
    "exp2_gbn_res"
   ]
  },
  {
   "cell_type": "markdown",
   "id": "e7fce718",
   "metadata": {},
   "source": [
    "### SR Calculations"
   ]
  },
  {
   "cell_type": "code",
   "execution_count": 164,
   "id": "2b380042",
   "metadata": {},
   "outputs": [
    {
     "name": "stdout",
     "output_type": "stream",
     "text": [
      "rm: logsr.txt: No such file or directory\n",
      "0\n",
      "2e-05\n",
      "4e-05\n",
      "6e-05\n",
      "8e-05\n",
      "0.0001\n"
     ]
    }
   ],
   "source": [
    "clearlogs(['sr'])\n",
    "for x in errp:\n",
    "    print (x)\n",
    "    for y in range (10):\n",
    "        sr_cmd = ('java ARQ 0 %s %s %s %s %s %s SR %s' % (delay, rate, numpkt, pktsize, x, dropP, N))\n",
    "        ! $sr_cmd"
   ]
  },
  {
   "cell_type": "code",
   "execution_count": 184,
   "id": "12d696b3",
   "metadata": {},
   "outputs": [],
   "source": [
    "exp2_sr = pd.read_csv('logsr.txt', sep=' ', header=None, names=['time', '#errorpkts', '#droppedpkts', '#ctrlpktsent', '#ctrlpktsrcvd', '#datapktssent', '#datapktsrcvd' ])"
   ]
  },
  {
   "cell_type": "code",
   "execution_count": 185,
   "id": "9de58a4e",
   "metadata": {},
   "outputs": [
    {
     "data": {
      "text/html": [
       "<div>\n",
       "<style scoped>\n",
       "    .dataframe tbody tr th:only-of-type {\n",
       "        vertical-align: middle;\n",
       "    }\n",
       "\n",
       "    .dataframe tbody tr th {\n",
       "        vertical-align: top;\n",
       "    }\n",
       "\n",
       "    .dataframe thead th {\n",
       "        text-align: right;\n",
       "    }\n",
       "</style>\n",
       "<table border=\"1\" class=\"dataframe\">\n",
       "  <thead>\n",
       "    <tr style=\"text-align: right;\">\n",
       "      <th></th>\n",
       "      <th>time</th>\n",
       "      <th>#errorpkts</th>\n",
       "      <th>#droppedpkts</th>\n",
       "      <th>#ctrlpktsent</th>\n",
       "      <th>#ctrlpktsrcvd</th>\n",
       "      <th>#datapktssent</th>\n",
       "      <th>#datapktsrcvd</th>\n",
       "    </tr>\n",
       "    <tr>\n",
       "      <th>Err Prob</th>\n",
       "      <th></th>\n",
       "      <th></th>\n",
       "      <th></th>\n",
       "      <th></th>\n",
       "      <th></th>\n",
       "      <th></th>\n",
       "      <th></th>\n",
       "    </tr>\n",
       "  </thead>\n",
       "  <tbody>\n",
       "    <tr>\n",
       "      <th>0.00000</th>\n",
       "      <td>77507.0</td>\n",
       "      <td>0.0</td>\n",
       "      <td>0.0</td>\n",
       "      <td>10000.0</td>\n",
       "      <td>10000.0</td>\n",
       "      <td>10000.0</td>\n",
       "      <td>10000.0</td>\n",
       "    </tr>\n",
       "    <tr>\n",
       "      <th>0.00002</th>\n",
       "      <td>78627.6</td>\n",
       "      <td>24.8</td>\n",
       "      <td>0.0</td>\n",
       "      <td>10000.0</td>\n",
       "      <td>10000.0</td>\n",
       "      <td>10024.8</td>\n",
       "      <td>10024.8</td>\n",
       "    </tr>\n",
       "    <tr>\n",
       "      <th>0.00004</th>\n",
       "      <td>79721.9</td>\n",
       "      <td>50.0</td>\n",
       "      <td>0.0</td>\n",
       "      <td>10000.0</td>\n",
       "      <td>10000.0</td>\n",
       "      <td>10050.0</td>\n",
       "      <td>10050.0</td>\n",
       "    </tr>\n",
       "    <tr>\n",
       "      <th>0.00006</th>\n",
       "      <td>80851.4</td>\n",
       "      <td>76.4</td>\n",
       "      <td>0.0</td>\n",
       "      <td>10000.0</td>\n",
       "      <td>10000.0</td>\n",
       "      <td>10076.4</td>\n",
       "      <td>10076.4</td>\n",
       "    </tr>\n",
       "    <tr>\n",
       "      <th>0.00008</th>\n",
       "      <td>81687.6</td>\n",
       "      <td>98.7</td>\n",
       "      <td>0.0</td>\n",
       "      <td>10000.0</td>\n",
       "      <td>10000.0</td>\n",
       "      <td>10098.7</td>\n",
       "      <td>10098.7</td>\n",
       "    </tr>\n",
       "    <tr>\n",
       "      <th>0.00010</th>\n",
       "      <td>83026.6</td>\n",
       "      <td>127.3</td>\n",
       "      <td>0.0</td>\n",
       "      <td>10000.0</td>\n",
       "      <td>10000.0</td>\n",
       "      <td>10127.3</td>\n",
       "      <td>10127.3</td>\n",
       "    </tr>\n",
       "  </tbody>\n",
       "</table>\n",
       "</div>"
      ],
      "text/plain": [
       "             time  #errorpkts  #droppedpkts  #ctrlpktsent  #ctrlpktsrcvd   \n",
       "Err Prob                                                                   \n",
       "0.00000   77507.0         0.0           0.0       10000.0        10000.0  \\\n",
       "0.00002   78627.6        24.8           0.0       10000.0        10000.0   \n",
       "0.00004   79721.9        50.0           0.0       10000.0        10000.0   \n",
       "0.00006   80851.4        76.4           0.0       10000.0        10000.0   \n",
       "0.00008   81687.6        98.7           0.0       10000.0        10000.0   \n",
       "0.00010   83026.6       127.3           0.0       10000.0        10000.0   \n",
       "\n",
       "          #datapktssent  #datapktsrcvd  \n",
       "Err Prob                                \n",
       "0.00000         10000.0        10000.0  \n",
       "0.00002         10024.8        10024.8  \n",
       "0.00004         10050.0        10050.0  \n",
       "0.00006         10076.4        10076.4  \n",
       "0.00008         10098.7        10098.7  \n",
       "0.00010         10127.3        10127.3  "
      ]
     },
     "execution_count": 185,
     "metadata": {},
     "output_type": "execute_result"
    }
   ],
   "source": [
    "exp2_sr['Err Prob'] = [item for item in errp for _ in range(10)]\n",
    "exp2_sr_res = exp2_sr.groupby(['Err Prob']).mean()\n",
    "exp2_sr_res"
   ]
  },
  {
   "cell_type": "markdown",
   "id": "add50839",
   "metadata": {},
   "source": [
    "## Graph"
   ]
  },
  {
   "attachments": {
    "image.png": {
     "image/png": "[encoded data removed]"
    }
   },
   "cell_type": "markdown",
   "id": "e9aaf4ef",
   "metadata": {},
   "source": [
    "![image.png](attachment:image.png)"
   ]
  },
  {
   "cell_type": "code",
   "execution_count": 250,
   "id": "c98a56b3",
   "metadata": {},
   "outputs": [
    {
     "data": {
      "image/png": "[encoded data removed]",
      "text/plain": [
       "<Figure size 432x288 with 1 Axes>"
      ]
     },
     "metadata": {
      "needs_background": "light"
     },
     "output_type": "display_data"
    }
   ],
   "source": [
    "gbn_throughput = round(exp2_gbn_res['#datapktsrcvd'] * 125 / exp2_gbn_res['time'] * 1000)\n",
    "plt.scatter(exp2_gbn_res.index.values, gbn_throughput.values, label='GBN')\n",
    "\n",
    "sr_throughput = round(exp2_sr_res['#datapktsrcvd'] * 125 / exp2_sr_res['time'] * 1000)\n",
    "plt.scatter(exp2_sr_res.index.values, sr_throughput.values, label='SR')\n",
    "\n",
    "saw_throughput = round(exp2_saw_res['#datapktsrcvd'] * 125 / exp2_saw_res['time'] * 1000)\n",
    "plt.scatter(exp2_saw_res.index.values, saw_throughput.values, label='SAW')\n",
    "\n",
    "plt.legend()\n",
    "plt.xlabel('Error Probability')\n",
    "plt.ylabel('Throughput (Bytes per Second)')\n",
    "plt.title('Throughput for each Protocol across Error Probabilities')\n",
    "plt.grid()\n",
    "plt.show()"
   ]
  },
  {
   "cell_type": "markdown",
   "id": "65b33891",
   "metadata": {},
   "source": [
    "### Interpret Results"
   ]
  },
  {
   "cell_type": "markdown",
   "id": "60eb7b99",
   "metadata": {},
   "source": [
    "asldfjasldkfjaslkdfjslkdfjzslf"
   ]
  },
  {
   "cell_type": "markdown",
   "id": "b42da9b5",
   "metadata": {},
   "source": [
    "# Exercise 3"
   ]
  },
  {
   "cell_type": "code",
   "execution_count": 183,
   "id": "7c3202f5",
   "metadata": {},
   "outputs": [],
   "source": [
    "windows = [1, 4, 8, 12, 16, 32, 40]\n",
    "default_e = 0.0001"
   ]
  },
  {
   "cell_type": "markdown",
   "id": "a085029a",
   "metadata": {},
   "source": [
    "### SAW Calculations"
   ]
  },
  {
   "cell_type": "code",
   "execution_count": 212,
   "id": "4d9a31a7",
   "metadata": {},
   "outputs": [
    {
     "name": "stdout",
     "output_type": "stream",
     "text": [
      "rm: logsaw.txt: No such file or directory\r\n"
     ]
    }
   ],
   "source": [
    "clearlogs(['s'])\n",
    "for y in range (10):\n",
    "    saw_cmd = ('java ARQ 0 %s %s %s %s %s %s SAW' % (delay, rate, numpkt, pktsize, default_e, dropP))\n",
    "    ! $saw_cmd"
   ]
  },
  {
   "cell_type": "code",
   "execution_count": 213,
   "id": "b57ec883",
   "metadata": {},
   "outputs": [],
   "source": [
    "exp3_saw = pd.read_csv('logsaw.txt', sep=' ', header=None, names=['time', '#errorpkts', '#droppedpkts', '#ctrlpktsent', '#ctrlpktsrcvd', '#datapktssent', '#datapktsrcvd' ])"
   ]
  },
  {
   "cell_type": "code",
   "execution_count": 214,
   "id": "d1672413",
   "metadata": {},
   "outputs": [
    {
     "data": {
      "text/html": [
       "<div>\n",
       "<style scoped>\n",
       "    .dataframe tbody tr th:only-of-type {\n",
       "        vertical-align: middle;\n",
       "    }\n",
       "\n",
       "    .dataframe tbody tr th {\n",
       "        vertical-align: top;\n",
       "    }\n",
       "\n",
       "    .dataframe thead th {\n",
       "        text-align: right;\n",
       "    }\n",
       "</style>\n",
       "<table border=\"1\" class=\"dataframe\">\n",
       "  <thead>\n",
       "    <tr style=\"text-align: right;\">\n",
       "      <th></th>\n",
       "      <th>time</th>\n",
       "      <th>#errorpkts</th>\n",
       "      <th>#droppedpkts</th>\n",
       "      <th>#ctrlpktsent</th>\n",
       "      <th>#ctrlpktsrcvd</th>\n",
       "      <th>#datapktssent</th>\n",
       "      <th>#datapktsrcvd</th>\n",
       "    </tr>\n",
       "  </thead>\n",
       "  <tbody>\n",
       "    <tr>\n",
       "      <th>0</th>\n",
       "      <td>627684</td>\n",
       "      <td>113</td>\n",
       "      <td>0</td>\n",
       "      <td>10000</td>\n",
       "      <td>10000</td>\n",
       "      <td>10113</td>\n",
       "      <td>10113</td>\n",
       "    </tr>\n",
       "    <tr>\n",
       "      <th>1</th>\n",
       "      <td>629520</td>\n",
       "      <td>140</td>\n",
       "      <td>0</td>\n",
       "      <td>10000</td>\n",
       "      <td>10000</td>\n",
       "      <td>10140</td>\n",
       "      <td>10140</td>\n",
       "    </tr>\n",
       "    <tr>\n",
       "      <th>2</th>\n",
       "      <td>629044</td>\n",
       "      <td>133</td>\n",
       "      <td>0</td>\n",
       "      <td>10000</td>\n",
       "      <td>10000</td>\n",
       "      <td>10133</td>\n",
       "      <td>10133</td>\n",
       "    </tr>\n",
       "    <tr>\n",
       "      <th>3</th>\n",
       "      <td>627412</td>\n",
       "      <td>109</td>\n",
       "      <td>0</td>\n",
       "      <td>10000</td>\n",
       "      <td>10000</td>\n",
       "      <td>10109</td>\n",
       "      <td>10109</td>\n",
       "    </tr>\n",
       "    <tr>\n",
       "      <th>4</th>\n",
       "      <td>627480</td>\n",
       "      <td>110</td>\n",
       "      <td>0</td>\n",
       "      <td>10000</td>\n",
       "      <td>10000</td>\n",
       "      <td>10110</td>\n",
       "      <td>10110</td>\n",
       "    </tr>\n",
       "    <tr>\n",
       "      <th>5</th>\n",
       "      <td>629180</td>\n",
       "      <td>135</td>\n",
       "      <td>0</td>\n",
       "      <td>10000</td>\n",
       "      <td>10000</td>\n",
       "      <td>10135</td>\n",
       "      <td>10135</td>\n",
       "    </tr>\n",
       "    <tr>\n",
       "      <th>6</th>\n",
       "      <td>627344</td>\n",
       "      <td>108</td>\n",
       "      <td>0</td>\n",
       "      <td>10000</td>\n",
       "      <td>10000</td>\n",
       "      <td>10108</td>\n",
       "      <td>10108</td>\n",
       "    </tr>\n",
       "    <tr>\n",
       "      <th>7</th>\n",
       "      <td>628772</td>\n",
       "      <td>129</td>\n",
       "      <td>0</td>\n",
       "      <td>10000</td>\n",
       "      <td>10000</td>\n",
       "      <td>10129</td>\n",
       "      <td>10129</td>\n",
       "    </tr>\n",
       "    <tr>\n",
       "      <th>8</th>\n",
       "      <td>627412</td>\n",
       "      <td>109</td>\n",
       "      <td>0</td>\n",
       "      <td>10000</td>\n",
       "      <td>10000</td>\n",
       "      <td>10109</td>\n",
       "      <td>10109</td>\n",
       "    </tr>\n",
       "    <tr>\n",
       "      <th>9</th>\n",
       "      <td>628092</td>\n",
       "      <td>119</td>\n",
       "      <td>0</td>\n",
       "      <td>10000</td>\n",
       "      <td>10000</td>\n",
       "      <td>10119</td>\n",
       "      <td>10119</td>\n",
       "    </tr>\n",
       "  </tbody>\n",
       "</table>\n",
       "</div>"
      ],
      "text/plain": [
       "     time  #errorpkts  #droppedpkts  #ctrlpktsent  #ctrlpktsrcvd   \n",
       "0  627684         113             0         10000          10000  \\\n",
       "1  629520         140             0         10000          10000   \n",
       "2  629044         133             0         10000          10000   \n",
       "3  627412         109             0         10000          10000   \n",
       "4  627480         110             0         10000          10000   \n",
       "5  629180         135             0         10000          10000   \n",
       "6  627344         108             0         10000          10000   \n",
       "7  628772         129             0         10000          10000   \n",
       "8  627412         109             0         10000          10000   \n",
       "9  628092         119             0         10000          10000   \n",
       "\n",
       "   #datapktssent  #datapktsrcvd  \n",
       "0          10113          10113  \n",
       "1          10140          10140  \n",
       "2          10133          10133  \n",
       "3          10109          10109  \n",
       "4          10110          10110  \n",
       "5          10135          10135  \n",
       "6          10108          10108  \n",
       "7          10129          10129  \n",
       "8          10109          10109  \n",
       "9          10119          10119  "
      ]
     },
     "execution_count": 214,
     "metadata": {},
     "output_type": "execute_result"
    }
   ],
   "source": [
    "exp3_saw"
   ]
  },
  {
   "cell_type": "markdown",
   "id": "de034a9c",
   "metadata": {},
   "source": [
    "### GBN Calculations"
   ]
  },
  {
   "cell_type": "code",
   "execution_count": 222,
   "id": "12a95ada",
   "metadata": {},
   "outputs": [
    {
     "name": "stdout",
     "output_type": "stream",
     "text": [
      "1\n",
      "4\n",
      "8\n",
      "^C\n",
      "12\n",
      "16\n",
      "^C\n",
      "32\n",
      "40\n"
     ]
    }
   ],
   "source": [
    "clearlogs(['g'])\n",
    "for w in windows:\n",
    "    print (w)\n",
    "    for y in range (10):\n",
    "        gbn_cmd = ('java ARQ 0 %s %s %s %s %s %s GBN %s' % (delay, rate, numpkt, pktsize, default_e, dropP, w))\n",
    "        ! $gbn_cmd"
   ]
  },
  {
   "cell_type": "code",
   "execution_count": 225,
   "id": "53e398aa",
   "metadata": {},
   "outputs": [
    {
     "data": {
      "text/plain": [
       "'java ARQ 0 30 125000 10000 125 0.0001 0 GBN 40'"
      ]
     },
     "execution_count": 225,
     "metadata": {},
     "output_type": "execute_result"
    }
   ],
   "source": [
    "gbn_cmd"
   ]
  },
  {
   "cell_type": "code",
   "execution_count": 227,
   "id": "807b87fe",
   "metadata": {},
   "outputs": [],
   "source": [
    "exp3_gbn = pd.read_csv('loggbn.txt', sep=' ', header=None, names=['time', '#errorpkts', '#droppedpkts', '#ctrlpktsent', '#ctrlpktsrcvd', '#datapktssent', '#datapktsrcvd' ])"
   ]
  },
  {
   "cell_type": "code",
   "execution_count": 228,
   "id": "9ff057a9",
   "metadata": {},
   "outputs": [
    {
     "data": {
      "text/html": [
       "<div>\n",
       "<style scoped>\n",
       "    .dataframe tbody tr th:only-of-type {\n",
       "        vertical-align: middle;\n",
       "    }\n",
       "\n",
       "    .dataframe tbody tr th {\n",
       "        vertical-align: top;\n",
       "    }\n",
       "\n",
       "    .dataframe thead th {\n",
       "        text-align: right;\n",
       "    }\n",
       "</style>\n",
       "<table border=\"1\" class=\"dataframe\">\n",
       "  <thead>\n",
       "    <tr style=\"text-align: right;\">\n",
       "      <th></th>\n",
       "      <th>time</th>\n",
       "      <th>#errorpkts</th>\n",
       "      <th>#droppedpkts</th>\n",
       "      <th>#ctrlpktsent</th>\n",
       "      <th>#ctrlpktsrcvd</th>\n",
       "      <th>#datapktssent</th>\n",
       "      <th>#datapktsrcvd</th>\n",
       "    </tr>\n",
       "    <tr>\n",
       "      <th>Window</th>\n",
       "      <th></th>\n",
       "      <th></th>\n",
       "      <th></th>\n",
       "      <th></th>\n",
       "      <th></th>\n",
       "      <th></th>\n",
       "      <th></th>\n",
       "    </tr>\n",
       "  </thead>\n",
       "  <tbody>\n",
       "    <tr>\n",
       "      <th>1</th>\n",
       "      <td>628030.8</td>\n",
       "      <td>118.1</td>\n",
       "      <td>0.0</td>\n",
       "      <td>10000.0</td>\n",
       "      <td>10000.0</td>\n",
       "      <td>10118.1</td>\n",
       "      <td>10118.1</td>\n",
       "    </tr>\n",
       "    <tr>\n",
       "      <th>4</th>\n",
       "      <td>161315.2</td>\n",
       "      <td>133.6</td>\n",
       "      <td>0.0</td>\n",
       "      <td>10378.9</td>\n",
       "      <td>10378.9</td>\n",
       "      <td>10512.0</td>\n",
       "      <td>10512.0</td>\n",
       "    </tr>\n",
       "    <tr>\n",
       "      <th>8</th>\n",
       "      <td>75645.2</td>\n",
       "      <td>120.8</td>\n",
       "      <td>0.0</td>\n",
       "      <td>10070.5</td>\n",
       "      <td>10070.5</td>\n",
       "      <td>10189.6</td>\n",
       "      <td>10189.6</td>\n",
       "    </tr>\n",
       "    <tr>\n",
       "      <th>12</th>\n",
       "      <td>50955.8</td>\n",
       "      <td>125.0</td>\n",
       "      <td>0.0</td>\n",
       "      <td>10093.6</td>\n",
       "      <td>10093.6</td>\n",
       "      <td>10218.0</td>\n",
       "      <td>10218.0</td>\n",
       "    </tr>\n",
       "    <tr>\n",
       "      <th>16</th>\n",
       "      <td>36768.4</td>\n",
       "      <td>142.7</td>\n",
       "      <td>0.0</td>\n",
       "      <td>10905.7</td>\n",
       "      <td>10904.7</td>\n",
       "      <td>11049.3</td>\n",
       "      <td>11049.3</td>\n",
       "    </tr>\n",
       "    <tr>\n",
       "      <th>32</th>\n",
       "      <td>25468.4</td>\n",
       "      <td>169.5</td>\n",
       "      <td>0.0</td>\n",
       "      <td>14000.6</td>\n",
       "      <td>14000.6</td>\n",
       "      <td>14170.1</td>\n",
       "      <td>14170.1</td>\n",
       "    </tr>\n",
       "    <tr>\n",
       "      <th>40</th>\n",
       "      <td>23020.4</td>\n",
       "      <td>193.1</td>\n",
       "      <td>0.0</td>\n",
       "      <td>14938.0</td>\n",
       "      <td>14938.0</td>\n",
       "      <td>15131.1</td>\n",
       "      <td>15131.1</td>\n",
       "    </tr>\n",
       "  </tbody>\n",
       "</table>\n",
       "</div>"
      ],
      "text/plain": [
       "            time  #errorpkts  #droppedpkts  #ctrlpktsent  #ctrlpktsrcvd   \n",
       "Window                                                                    \n",
       "1       628030.8       118.1           0.0       10000.0        10000.0  \\\n",
       "4       161315.2       133.6           0.0       10378.9        10378.9   \n",
       "8        75645.2       120.8           0.0       10070.5        10070.5   \n",
       "12       50955.8       125.0           0.0       10093.6        10093.6   \n",
       "16       36768.4       142.7           0.0       10905.7        10904.7   \n",
       "32       25468.4       169.5           0.0       14000.6        14000.6   \n",
       "40       23020.4       193.1           0.0       14938.0        14938.0   \n",
       "\n",
       "        #datapktssent  #datapktsrcvd  \n",
       "Window                                \n",
       "1             10118.1        10118.1  \n",
       "4             10512.0        10512.0  \n",
       "8             10189.6        10189.6  \n",
       "12            10218.0        10218.0  \n",
       "16            11049.3        11049.3  \n",
       "32            14170.1        14170.1  \n",
       "40            15131.1        15131.1  "
      ]
     },
     "execution_count": 228,
     "metadata": {},
     "output_type": "execute_result"
    }
   ],
   "source": [
    "exp3_gbn['Window'] = [item for item in windows for _ in range(10)]\n",
    "exp3_gbn_res = exp3_gbn.groupby(['Window']).mean()\n",
    "exp3_gbn_res"
   ]
  },
  {
   "cell_type": "markdown",
   "id": "61263854",
   "metadata": {},
   "source": [
    "### SR Calculation"
   ]
  },
  {
   "cell_type": "code",
   "execution_count": 217,
   "id": "081ea523",
   "metadata": {},
   "outputs": [
    {
     "name": "stdout",
     "output_type": "stream",
     "text": [
      "1\n",
      "4\n",
      "8\n",
      "12\n",
      "16\n",
      "32\n",
      "40\n"
     ]
    }
   ],
   "source": [
    "clearlogs(['sr'])\n",
    "for w in windows:\n",
    "    print (w)\n",
    "    for y in range (10):\n",
    "        sr_cmd = ('java ARQ 0 %s %s %s %s %s %s SR %s' % (delay, rate, numpkt, pktsize, default_e, dropP, w))\n",
    "        ! $sr_cmd"
   ]
  },
  {
   "cell_type": "code",
   "execution_count": 220,
   "id": "a9a0b308",
   "metadata": {},
   "outputs": [],
   "source": [
    "exp3_sr = pd.read_csv('logsr.txt', sep=' ', header=None, names=['time', '#errorpkts', '#droppedpkts', '#ctrlpktsent', '#ctrlpktsrcvd', '#datapktssent', '#datapktsrcvd' ])"
   ]
  },
  {
   "cell_type": "code",
   "execution_count": 221,
   "id": "1a5b06f1",
   "metadata": {},
   "outputs": [
    {
     "data": {
      "text/html": [
       "<div>\n",
       "<style scoped>\n",
       "    .dataframe tbody tr th:only-of-type {\n",
       "        vertical-align: middle;\n",
       "    }\n",
       "\n",
       "    .dataframe tbody tr th {\n",
       "        vertical-align: top;\n",
       "    }\n",
       "\n",
       "    .dataframe thead th {\n",
       "        text-align: right;\n",
       "    }\n",
       "</style>\n",
       "<table border=\"1\" class=\"dataframe\">\n",
       "  <thead>\n",
       "    <tr style=\"text-align: right;\">\n",
       "      <th></th>\n",
       "      <th>time</th>\n",
       "      <th>#errorpkts</th>\n",
       "      <th>#droppedpkts</th>\n",
       "      <th>#ctrlpktsent</th>\n",
       "      <th>#ctrlpktsrcvd</th>\n",
       "      <th>#datapktssent</th>\n",
       "      <th>#datapktsrcvd</th>\n",
       "    </tr>\n",
       "    <tr>\n",
       "      <th>Window</th>\n",
       "      <th></th>\n",
       "      <th></th>\n",
       "      <th></th>\n",
       "      <th></th>\n",
       "      <th></th>\n",
       "      <th></th>\n",
       "      <th></th>\n",
       "    </tr>\n",
       "  </thead>\n",
       "  <tbody>\n",
       "    <tr>\n",
       "      <th>1</th>\n",
       "      <td>628656.4</td>\n",
       "      <td>127.3</td>\n",
       "      <td>0.0</td>\n",
       "      <td>10000.0</td>\n",
       "      <td>10000.0</td>\n",
       "      <td>10127.3</td>\n",
       "      <td>10127.3</td>\n",
       "    </tr>\n",
       "    <tr>\n",
       "      <th>4</th>\n",
       "      <td>160647.6</td>\n",
       "      <td>124.4</td>\n",
       "      <td>0.0</td>\n",
       "      <td>10000.0</td>\n",
       "      <td>10000.0</td>\n",
       "      <td>10124.4</td>\n",
       "      <td>10124.4</td>\n",
       "    </tr>\n",
       "    <tr>\n",
       "      <th>8</th>\n",
       "      <td>82682.9</td>\n",
       "      <td>124.4</td>\n",
       "      <td>0.0</td>\n",
       "      <td>10000.0</td>\n",
       "      <td>10000.0</td>\n",
       "      <td>10124.4</td>\n",
       "      <td>10124.4</td>\n",
       "    </tr>\n",
       "    <tr>\n",
       "      <th>12</th>\n",
       "      <td>56632.5</td>\n",
       "      <td>119.2</td>\n",
       "      <td>0.0</td>\n",
       "      <td>10000.0</td>\n",
       "      <td>10000.0</td>\n",
       "      <td>10119.2</td>\n",
       "      <td>10119.2</td>\n",
       "    </tr>\n",
       "    <tr>\n",
       "      <th>16</th>\n",
       "      <td>43970.6</td>\n",
       "      <td>124.6</td>\n",
       "      <td>0.0</td>\n",
       "      <td>10000.0</td>\n",
       "      <td>10000.0</td>\n",
       "      <td>10124.6</td>\n",
       "      <td>10124.6</td>\n",
       "    </tr>\n",
       "    <tr>\n",
       "      <th>32</th>\n",
       "      <td>24670.5</td>\n",
       "      <td>127.4</td>\n",
       "      <td>0.0</td>\n",
       "      <td>10000.0</td>\n",
       "      <td>10000.0</td>\n",
       "      <td>10127.4</td>\n",
       "      <td>10127.4</td>\n",
       "    </tr>\n",
       "    <tr>\n",
       "      <th>40</th>\n",
       "      <td>20477.3</td>\n",
       "      <td>121.3</td>\n",
       "      <td>0.0</td>\n",
       "      <td>10000.0</td>\n",
       "      <td>10000.0</td>\n",
       "      <td>10121.3</td>\n",
       "      <td>10121.3</td>\n",
       "    </tr>\n",
       "  </tbody>\n",
       "</table>\n",
       "</div>"
      ],
      "text/plain": [
       "            time  #errorpkts  #droppedpkts  #ctrlpktsent  #ctrlpktsrcvd   \n",
       "Window                                                                    \n",
       "1       628656.4       127.3           0.0       10000.0        10000.0  \\\n",
       "4       160647.6       124.4           0.0       10000.0        10000.0   \n",
       "8        82682.9       124.4           0.0       10000.0        10000.0   \n",
       "12       56632.5       119.2           0.0       10000.0        10000.0   \n",
       "16       43970.6       124.6           0.0       10000.0        10000.0   \n",
       "32       24670.5       127.4           0.0       10000.0        10000.0   \n",
       "40       20477.3       121.3           0.0       10000.0        10000.0   \n",
       "\n",
       "        #datapktssent  #datapktsrcvd  \n",
       "Window                                \n",
       "1             10127.3        10127.3  \n",
       "4             10124.4        10124.4  \n",
       "8             10124.4        10124.4  \n",
       "12            10119.2        10119.2  \n",
       "16            10124.6        10124.6  \n",
       "32            10127.4        10127.4  \n",
       "40            10121.3        10121.3  "
      ]
     },
     "execution_count": 221,
     "metadata": {},
     "output_type": "execute_result"
    }
   ],
   "source": [
    "exp3_sr['Window'] = [item for item in windows for _ in range(10)]\n",
    "exp3_sr_res = exp3_sr.groupby(['Window']).mean()\n",
    "exp3_sr_res"
   ]
  },
  {
   "cell_type": "markdown",
   "id": "16b40398",
   "metadata": {},
   "source": [
    "## Graph"
   ]
  },
  {
   "cell_type": "code",
   "execution_count": 251,
   "id": "c8382a5c",
   "metadata": {},
   "outputs": [
    {
     "data": {
      "image/png": "[encoded data removed]",
      "text/plain": [
       "<Figure size 432x288 with 1 Axes>"
      ]
     },
     "metadata": {
      "needs_background": "light"
     },
     "output_type": "display_data"
    }
   ],
   "source": [
    "gbn3_throughput = round(exp3_gbn_res['#datapktsrcvd'] * 125 / exp3_gbn_res['time'] * 1000)\n",
    "plt.scatter(exp3_gbn_res.index.values, gbn3_throughput.values, label='GBN')\n",
    "\n",
    "sr3_throughput = round(exp3_sr_res['#datapktsrcvd'] * 125 / exp3_sr_res['time'] * 1000)\n",
    "plt.scatter(exp3_sr_res.index.values, sr3_throughput.values, label='SR')\n",
    "\n",
    "exp3_saw_mean = exp3_saw.mean()\n",
    "saw3_throughput = round(exp3_saw_mean['#datapktsrcvd'] * 125 / exp3_saw_mean['time'] * 1000)\n",
    "plt.scatter(1, saw3_throughput, label='SAW')\n",
    "\n",
    "plt.legend()\n",
    "plt.xlabel('Window Size')\n",
    "plt.ylabel('Throughput (Bytes/Second)')\n",
    "plt.title('Throughput for each Protocol across Window Sizes')\n",
    "plt.grid()\n",
    "plt.show()"
   ]
  },
  {
   "cell_type": "markdown",
   "id": "8d227993",
   "metadata": {},
   "source": [
    "## Interpret / Explain"
   ]
  },
  {
   "cell_type": "markdown",
   "id": "3e0a48ef",
   "metadata": {},
   "source": [
    "# Experiment 4"
   ]
  },
  {
   "cell_type": "markdown",
   "id": "db35bfbb",
   "metadata": {},
   "source": [
    "Using data run in experiment #3"
   ]
  },
  {
   "cell_type": "code",
   "execution_count": 246,
   "id": "e31bb82e",
   "metadata": {},
   "outputs": [
    {
     "data": {
      "image/png": "[encoded data removed]",
      "text/plain": [
       "<Figure size 432x288 with 1 Axes>"
      ]
     },
     "metadata": {
      "needs_background": "light"
     },
     "output_type": "display_data"
    }
   ],
   "source": [
    "gbn4_util = gbn3_throughput / rate * 100\n",
    "plt.scatter(exp3_gbn_res.index.values, gbn4_util.values, label='GBN')\n",
    "\n",
    "sr4_util = sr3_throughput / rate * 100\n",
    "plt.scatter(exp3_sr_res.index.values, sr3_throughput.values, label='SR')\n",
    "\n",
    "exp3_saw_mean = exp3_saw.mean()\n",
    "sr4_util = saw3_throughput / rate * 100\n",
    "plt.scatter(1, saw3_throughput, label='SAW')\n",
    "\n",
    "plt.legend()\n",
    "plt.xlabel('Window Size')\n",
    "plt.ylabel('Utility')\n",
    "plt.title('Utility for each Protocol across Window Sizes')\n",
    "plt.grid()\n",
    "plt.show()"
   ]
  },
  {
   "cell_type": "markdown",
   "id": "57dd6610",
   "metadata": {},
   "source": [
    "### Interpret / Explain"
   ]
  },
  {
   "cell_type": "markdown",
   "id": "7d792353",
   "metadata": {},
   "source": [
    "# Experiment 5"
   ]
  },
  {
   "cell_type": "code",
   "execution_count": 260,
   "id": "a2979469",
   "metadata": {},
   "outputs": [
    {
     "data": {
      "image/png": "[encoded data removed]",
      "text/plain": [
       "<Figure size 432x288 with 1 Axes>"
      ]
     },
     "metadata": {
      "needs_background": "light"
     },
     "output_type": "display_data"
    }
   ],
   "source": [
    "gbn5_delay = exp3_gbn_res['time'] / exp3_gbn_res['#datapktsrcvd']\n",
    "plt.scatter(exp3_gbn_res.index.values, gbn5_delay, label='GBN', marker='x')\n",
    "\n",
    "sr5_delay = exp3_sr_res['time'] / exp3_sr_res['#datapktsrcvd']\n",
    "plt.scatter(exp3_sr_res.index.values, sr5_delay.values, label='SR', marker='x')\n",
    "\n",
    "saw5_delay = exp3_saw_mean['#datapktsrcvd'] / exp3_saw_mean['time']\n",
    "plt.scatter(1, saw5_delay, label='SAW')\n",
    "\n",
    "plt.legend()\n",
    "plt.xlabel('Window Size')\n",
    "plt.ylabel('Delay (ms)')\n",
    "plt.title('Utility for each Protocol across Window Sizes')\n",
    "plt.grid()\n",
    "plt.show()"
   ]
  },
  {
   "cell_type": "markdown",
   "id": "a812d4a9",
   "metadata": {},
   "source": [
    "### Interpret"
   ]
  },
  {
   "cell_type": "markdown",
   "id": "d699c597",
   "metadata": {},
   "source": [
    "asdlfkjasfl"
   ]
  },
  {
   "cell_type": "code",
   "execution_count": null,
   "id": "6cf53d11",
   "metadata": {},
   "outputs": [],
   "source": []
  }
 ],
 "metadata": {
  "kernelspec": {
   "display_name": "Python (myenv)",
   "language": "python",
   "name": "myenv"
  },
  "language_info": {
   "codemirror_mode": {
    "name": "ipython",
    "version": 3
   },
   "file_extension": ".py",
   "mimetype": "text/x-python",
   "name": "python",
   "nbconvert_exporter": "python",
   "pygments_lexer": "ipython3",
   "version": "3.9.7"
  }
 },
 "nbformat": 4,
 "nbformat_minor": 5
}
