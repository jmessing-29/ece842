{
 "cells": [
  {
   "cell_type": "code",
   "execution_count": 7,
   "id": "770b409c",
   "metadata": {},
   "outputs": [],
   "source": [
    "import numpy as np\n",
    "import pandas as pd\n",
    "from matplotlib import pyplot as plt"
   ]
  },
  {
   "cell_type": "markdown",
   "id": "66947dc3",
   "metadata": {},
   "source": [
    "# Experiment 1\n",
    "### Part A"
   ]
  },
  {
   "cell_type": "code",
   "execution_count": 6,
   "id": "948cd7b5",
   "metadata": {},
   "outputs": [
    {
     "data": {
      "text/html": [
       "<div>\n",
       "<style scoped>\n",
       "    .dataframe tbody tr th:only-of-type {\n",
       "        vertical-align: middle;\n",
       "    }\n",
       "\n",
       "    .dataframe tbody tr th {\n",
       "        vertical-align: top;\n",
       "    }\n",
       "\n",
       "    .dataframe thead th {\n",
       "        text-align: right;\n",
       "    }\n",
       "</style>\n",
       "<table border=\"1\" class=\"dataframe\">\n",
       "  <thead>\n",
       "    <tr style=\"text-align: right;\">\n",
       "      <th></th>\n",
       "      <th>0</th>\n",
       "      <th>1</th>\n",
       "      <th>2</th>\n",
       "      <th>3</th>\n",
       "      <th>4</th>\n",
       "      <th>5</th>\n",
       "      <th>6</th>\n",
       "      <th>7</th>\n",
       "      <th>8</th>\n",
       "      <th>9</th>\n",
       "      <th>10</th>\n",
       "      <th>11</th>\n",
       "    </tr>\n",
       "  </thead>\n",
       "  <tbody>\n",
       "    <tr>\n",
       "      <th>g</th>\n",
       "      <td>0.250000</td>\n",
       "      <td>0.500000</td>\n",
       "      <td>0.75000</td>\n",
       "      <td>1.00000</td>\n",
       "      <td>1.25000</td>\n",
       "      <td>1.500000</td>\n",
       "      <td>1.750000</td>\n",
       "      <td>2.000000</td>\n",
       "      <td>2.250000</td>\n",
       "      <td>2.500000</td>\n",
       "      <td>2.750000</td>\n",
       "      <td>3.000000</td>\n",
       "    </tr>\n",
       "    <tr>\n",
       "      <th>G</th>\n",
       "      <td>0.500000</td>\n",
       "      <td>1.000000</td>\n",
       "      <td>1.50000</td>\n",
       "      <td>2.00000</td>\n",
       "      <td>2.50000</td>\n",
       "      <td>3.000000</td>\n",
       "      <td>3.500000</td>\n",
       "      <td>4.000000</td>\n",
       "      <td>4.500000</td>\n",
       "      <td>5.000000</td>\n",
       "      <td>5.500000</td>\n",
       "      <td>6.000000</td>\n",
       "    </tr>\n",
       "    <tr>\n",
       "      <th>s</th>\n",
       "      <td>0.390444</td>\n",
       "      <td>0.605449</td>\n",
       "      <td>0.70936</td>\n",
       "      <td>0.73357</td>\n",
       "      <td>0.71381</td>\n",
       "      <td>0.667884</td>\n",
       "      <td>0.607485</td>\n",
       "      <td>0.540688</td>\n",
       "      <td>0.472274</td>\n",
       "      <td>0.413472</td>\n",
       "      <td>0.350487</td>\n",
       "      <td>0.297115</td>\n",
       "    </tr>\n",
       "  </tbody>\n",
       "</table>\n",
       "</div>"
      ],
      "text/plain": [
       "         0         1        2        3        4         5         6    \n",
       "g  0.250000  0.500000  0.75000  1.00000  1.25000  1.500000  1.750000  \\\n",
       "G  0.500000  1.000000  1.50000  2.00000  2.50000  3.000000  3.500000   \n",
       "s  0.390444  0.605449  0.70936  0.73357  0.71381  0.667884  0.607485   \n",
       "\n",
       "         7         8         9         10        11  \n",
       "g  2.000000  2.250000  2.500000  2.750000  3.000000  \n",
       "G  4.000000  4.500000  5.000000  5.500000  6.000000  \n",
       "s  0.540688  0.472274  0.413472  0.350487  0.297115  "
      ]
     },
     "execution_count": 6,
     "metadata": {},
     "output_type": "execute_result"
    }
   ],
   "source": [
    "# s is network-wide throughput (Erlang) from data in exp1res.txt\n",
    "e1pa_data = {'g': np.arange(0.5, 6.5, 0.5)/2, \n",
    "             'G': np.arange(0.5, 6.5, 0.5),\n",
    "             's': [0.390444, 0.605449, 0.709360, 0.733570, 0.713810, 0.667884, \n",
    "                   0.607485, 0.540688, 0.472274, 0.413472, 0.350487, 0.297115 ]}\n",
    "e1a_df = pd.DataFrame(e1pa_data)\n",
    "e1a_df.transpose()"
   ]
  },
  {
   "cell_type": "markdown",
   "id": "169ff77a",
   "metadata": {},
   "source": [
    "### Part B: Experimental Results"
   ]
  },
  {
   "cell_type": "code",
   "execution_count": 44,
   "id": "35852913",
   "metadata": {},
   "outputs": [
    {
     "data": {
      "image/png": "[encoded data removed]",
      "text/plain": [
       "<Figure size 432x288 with 1 Axes>"
      ]
     },
     "metadata": {
      "needs_background": "light"
     },
     "output_type": "display_data"
    }
   ],
   "source": [
    "plt.plot(e1a_df.G.values, e1a_df.s.values)\n",
    "plt.grid()\n",
    "plt.title('Experimental Results')\n",
    "plt.xlabel('System Wide Load (Erlang)')\n",
    "plt.ylabel('Network Wide Throughput')\n",
    "\n",
    "max_index = np.argmax(e1a_df.s.values)\n",
    "max_x = e1a_df.G.values[max_index]\n",
    "max_y = e1a_df.s.values[max_index]\n",
    "plt.scatter(max_x, max_y, marker='x', color='red')\n",
    "plt.text(max_x, max_y+0.01, f'{max_y}')\n",
    "plt.show()"
   ]
  },
  {
   "cell_type": "markdown",
   "id": "240c1032",
   "metadata": {},
   "source": [
    "### Part C\n",
    "The maximum throughput is 0.73357 and occurs at a System Wide Load of 2"
   ]
  },
  {
   "cell_type": "markdown",
   "id": "2c455c98",
   "metadata": {},
   "source": [
    "### Part D: Theroretical Results"
   ]
  },
  {
   "cell_type": "code",
   "execution_count": 38,
   "id": "af788a3d",
   "metadata": {},
   "outputs": [],
   "source": [
    "def s_equation(n, g):\n",
    "    return (n*g*np.exp(-1*(n-1)*g))"
   ]
  },
  {
   "cell_type": "code",
   "execution_count": 49,
   "id": "7ed7b43b",
   "metadata": {},
   "outputs": [
    {
     "data": {
      "image/png": "[encoded data removed]",
      "text/plain": [
       "<Figure size 432x288 with 1 Axes>"
      ]
     },
     "metadata": {
      "needs_background": "light"
     },
     "output_type": "display_data"
    },
    {
     "data": {
      "text/html": [
       "<div>\n",
       "<style scoped>\n",
       "    .dataframe tbody tr th:only-of-type {\n",
       "        vertical-align: middle;\n",
       "    }\n",
       "\n",
       "    .dataframe tbody tr th {\n",
       "        vertical-align: top;\n",
       "    }\n",
       "\n",
       "    .dataframe thead th {\n",
       "        text-align: right;\n",
       "    }\n",
       "</style>\n",
       "<table border=\"1\" class=\"dataframe\">\n",
       "  <thead>\n",
       "    <tr style=\"text-align: right;\">\n",
       "      <th></th>\n",
       "      <th>0</th>\n",
       "      <th>1</th>\n",
       "      <th>2</th>\n",
       "      <th>3</th>\n",
       "      <th>4</th>\n",
       "      <th>5</th>\n",
       "      <th>6</th>\n",
       "      <th>7</th>\n",
       "      <th>8</th>\n",
       "      <th>9</th>\n",
       "      <th>10</th>\n",
       "      <th>11</th>\n",
       "    </tr>\n",
       "  </thead>\n",
       "  <tbody>\n",
       "    <tr>\n",
       "      <th>g</th>\n",
       "      <td>0.250000</td>\n",
       "      <td>0.500000</td>\n",
       "      <td>0.75000</td>\n",
       "      <td>1.000000</td>\n",
       "      <td>1.250000</td>\n",
       "      <td>1.500000</td>\n",
       "      <td>1.750000</td>\n",
       "      <td>2.000000</td>\n",
       "      <td>2.250000</td>\n",
       "      <td>2.500000</td>\n",
       "      <td>2.750000</td>\n",
       "      <td>3.000000</td>\n",
       "    </tr>\n",
       "    <tr>\n",
       "      <th>G</th>\n",
       "      <td>0.500000</td>\n",
       "      <td>1.000000</td>\n",
       "      <td>1.50000</td>\n",
       "      <td>2.000000</td>\n",
       "      <td>2.500000</td>\n",
       "      <td>3.000000</td>\n",
       "      <td>3.500000</td>\n",
       "      <td>4.000000</td>\n",
       "      <td>4.500000</td>\n",
       "      <td>5.000000</td>\n",
       "      <td>5.500000</td>\n",
       "      <td>6.000000</td>\n",
       "    </tr>\n",
       "    <tr>\n",
       "      <th>experimental s</th>\n",
       "      <td>0.390444</td>\n",
       "      <td>0.605449</td>\n",
       "      <td>0.70936</td>\n",
       "      <td>0.733570</td>\n",
       "      <td>0.713810</td>\n",
       "      <td>0.667884</td>\n",
       "      <td>0.607485</td>\n",
       "      <td>0.540688</td>\n",
       "      <td>0.472274</td>\n",
       "      <td>0.413472</td>\n",
       "      <td>0.350487</td>\n",
       "      <td>0.297115</td>\n",
       "    </tr>\n",
       "    <tr>\n",
       "      <th>theoretical s</th>\n",
       "      <td>0.389400</td>\n",
       "      <td>0.606531</td>\n",
       "      <td>0.70855</td>\n",
       "      <td>0.735759</td>\n",
       "      <td>0.716262</td>\n",
       "      <td>0.669390</td>\n",
       "      <td>0.608209</td>\n",
       "      <td>0.541341</td>\n",
       "      <td>0.474297</td>\n",
       "      <td>0.410425</td>\n",
       "      <td>0.351603</td>\n",
       "      <td>0.298722</td>\n",
       "    </tr>\n",
       "  </tbody>\n",
       "</table>\n",
       "</div>"
      ],
      "text/plain": [
       "                      0         1        2         3         4         5    \n",
       "g               0.250000  0.500000  0.75000  1.000000  1.250000  1.500000  \\\n",
       "G               0.500000  1.000000  1.50000  2.000000  2.500000  3.000000   \n",
       "experimental s  0.390444  0.605449  0.70936  0.733570  0.713810  0.667884   \n",
       "theoretical s   0.389400  0.606531  0.70855  0.735759  0.716262  0.669390   \n",
       "\n",
       "                      6         7         8         9         10        11  \n",
       "g               1.750000  2.000000  2.250000  2.500000  2.750000  3.000000  \n",
       "G               3.500000  4.000000  4.500000  5.000000  5.500000  6.000000  \n",
       "experimental s  0.607485  0.540688  0.472274  0.413472  0.350487  0.297115  \n",
       "theoretical s   0.608209  0.541341  0.474297  0.410425  0.351603  0.298722  "
      ]
     },
     "execution_count": 49,
     "metadata": {},
     "output_type": "execute_result"
    }
   ],
   "source": [
    "plt.plot(e1a_df.G.values, [s_equation(2, g) for g in e1a_df.g.values])\n",
    "plt.grid()\n",
    "plt.title('Part B Graph')\n",
    "plt.xlabel('System Wide Load (Erlang)')\n",
    "plt.ylabel('Network Wide Throughput')\n",
    "\n",
    "max_index = np.argmax([s_equation(2, g) for g in e1a_df.g.values])\n",
    "max_x = e1a_df.G.values[max_index]\n",
    "max_y = [s_equation(2, g) for g in e1a_df.g.values][max_index]\n",
    "plt.scatter(max_x, max_y, marker='x', color='red')\n",
    "plt.text(max_x, max_y+0.01, f'{round(max_y, 4)}')\n",
    "plt.show()\n",
    "\n",
    "complete_df = {'g': np.arange(0.5, 6.5, 0.5)/2, \n",
    "             'G': np.arange(0.5, 6.5, 0.5),\n",
    "             'experimental s': [0.390444, 0.605449, 0.709360, 0.733570, 0.713810, 0.667884, \n",
    "                   0.607485, 0.540688, 0.472274, 0.413472, 0.350487, 0.297115],\n",
    "              'theoretical s': [s_equation(2, g) for g in e1a_df.g.values]}\n",
    "e1_df = pd.DataFrame(complete_df)\n",
    "e1_df.transpose()"
   ]
  },
  {
   "cell_type": "code",
   "execution_count": null,
   "id": "23076f96",
   "metadata": {},
   "outputs": [],
   "source": []
  }
 ],
 "metadata": {
  "kernelspec": {
   "display_name": "Python 3 (ipykernel)",
   "language": "python",
   "name": "python3"
  },
  "language_info": {
   "codemirror_mode": {
    "name": "ipython",
    "version": 3
   },
   "file_extension": ".py",
   "mimetype": "text/x-python",
   "name": "python",
   "nbconvert_exporter": "python",
   "pygments_lexer": "ipython3",
   "version": "3.9.7"
  }
 },
 "nbformat": 4,
 "nbformat_minor": 5
}
